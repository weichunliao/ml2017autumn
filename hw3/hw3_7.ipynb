{
 "cells": [
  {
   "cell_type": "code",
   "execution_count": 29,
   "metadata": {},
   "outputs": [],
   "source": [
    "import numpy as np\n",
    "from math import exp\n",
    "import matplotlib.pyplot as plt\n",
    "import random"
   ]
  },
  {
   "cell_type": "code",
   "execution_count": 18,
   "metadata": {},
   "outputs": [],
   "source": [
    "def sign(p):\n",
    "    if p > 0.0:\n",
    "        return 1.0\n",
    "    else:\n",
    "        return -1.0"
   ]
  },
  {
   "cell_type": "code",
   "execution_count": 52,
   "metadata": {},
   "outputs": [],
   "source": [
    "def generate_data(N = 20):\n",
    "    X = []\n",
    "    Y = []\n",
    "    for i in range(N):\n",
    "        x1 = random.uniform(-1.0, 1.0)\n",
    "        x2 = random.uniform(-1.0, 1.0)\n",
    "        X.append([x1,x2])\n",
    "        temp = sign(x1**2 + x2**2 - 0.6)\n",
    "        if np.random.randint(10) == 0:  # noise\n",
    "            temp = -temp\n",
    "        Y.append(temp)\n",
    "    return X, Y"
   ]
  },
  {
   "cell_type": "code",
   "execution_count": 53,
   "metadata": {},
   "outputs": [],
   "source": [
    "def feature_trans(X):\n",
    "    new_X = []\n",
    "    for item in X:\n",
    "        temp = [1, item[0], item[1], item[0]*item[1], item[0]*item[0], item[1]*item[1]]\n",
    "        new_X.append(temp)\n",
    "    return new_X"
   ]
  },
  {
   "cell_type": "code",
   "execution_count": 70,
   "metadata": {},
   "outputs": [],
   "source": [
    "data_x, data_y = generate_data(1000)\n",
    "# print(data_x, data_y)\n",
    "new_datax = feature_trans(data_x)\n",
    "# print(new_datax)"
   ]
  },
  {
   "cell_type": "code",
   "execution_count": 72,
   "metadata": {},
   "outputs": [],
   "source": [
    "def cnt_eout(data_x, data_y):\n",
    "    err = 0.0\n",
    "    n = len(data_y)\n",
    "#     print(n)\n",
    "    w = [-1,-0.05,0.08,0.13,1.5,1.5]\n",
    "    for i in range(n):\n",
    "#         print(data_x[i])\n",
    "        pred = sign(np.dot(w, data_x[i]))\n",
    "#         print(pred)\n",
    "#         print(data_y[i])\n",
    "        if pred != data_y[i]:\n",
    "            err = err+1\n",
    "#     print(err)\n",
    "    return err/float(n)\n",
    "        "
   ]
  },
  {
   "cell_type": "code",
   "execution_count": 82,
   "metadata": {},
   "outputs": [],
   "source": [
    "# a = cnt_eout(new_datax, data_y)\n",
    "all_err = []\n",
    "iter_num = 1000\n",
    "for _ in range(iter_num):\n",
    "    data_x, data_y = generate_data(1000)\n",
    "    new_datax = feature_trans(data_x)\n",
    "    temp_err = cnt_eout(new_datax, data_y)\n",
    "#     print(temp_err)\n",
    "    all_err.append(temp_err)\n",
    "\n",
    "result = sum(all_err)/float(iter_num)\n",
    "    "
   ]
  },
  {
   "cell_type": "code",
   "execution_count": 83,
   "metadata": {},
   "outputs": [
    {
     "name": "stdout",
     "output_type": "stream",
     "text": [
      "avg Eout: 0.14225200000000032\n"
     ]
    },
    {
     "data": {
      "image/png": "[encoded data removed]",
      "text/plain": [
       "<matplotlib.figure.Figure at 0x7fc6a1e94358>"
      ]
     },
     "metadata": {},
     "output_type": "display_data"
    }
   ],
   "source": [
    "print(\"avg Eout:\", result)\n",
    "plt.hist(all_err)\n",
    "plt.show()"
   ]
  }
 ],
 "metadata": {
  "kernelspec": {
   "display_name": "Python 3",
   "language": "python",
   "name": "python3"
  },
  "language_info": {
   "codemirror_mode": {
    "name": "ipython",
    "version": 3
   },
   "file_extension": ".py",
   "mimetype": "text/x-python",
   "name": "python",
   "nbconvert_exporter": "python",
   "pygments_lexer": "ipython3",
   "version": "3.5.2"
  }
 },
 "nbformat": 4,
 "nbformat_minor": 2
}
