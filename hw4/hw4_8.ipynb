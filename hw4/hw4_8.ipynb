{
 "cells": [
  {
   "cell_type": "code",
   "execution_count": 2,
   "metadata": {},
   "outputs": [],
   "source": [
    "import numpy as np\n",
    "from math import exp\n",
    "import matplotlib.pyplot as plt\n",
    "\n",
    "def read_data(fname='./hw4_train.dat'):\n",
    "    X, Y  = [], []\n",
    "    with open(fname, 'r') as f:\n",
    "        for line in f.readlines():\n",
    "            line = line.split()\n",
    "            # add coefficient for constant\n",
    "            X.append(tuple([1] + [float(v) for v in line[:-1]]))\n",
    "            Y.append(int(line[-1]))\n",
    "    return np.array(X), np.array(Y)\n",
    "    \n",
    "def sigmoid(s):\n",
    "    return 1.0/(1.0+exp(-s))\n",
    "def cnt_err(w, X, Y):\n",
    "    err = 0.0\n",
    "    for i in range(len(X)):\n",
    "        pred = np.sign(sigmoid(X[i].dot(w))-1/2)\n",
    "        if pred != Y[i]:\n",
    "            err = err + 1\n",
    "    return err/float(len(X))\n",
    "\n",
    "train_x, train_y = read_data('./hw4_train.dat')\n",
    "test_x, test_y = read_data('./hw4_test.dat')"
   ]
  },
  {
   "cell_type": "code",
   "execution_count": 6,
   "metadata": {},
   "outputs": [],
   "source": [
    "train_x_split = train_x[0:120, :]\n",
    "train_y_split = train_y[0:120]\n",
    "x_val = train_x[120:, :]\n",
    "y_val = train_y[120:]"
   ]
  },
  {
   "cell_type": "code",
   "execution_count": 7,
   "metadata": {},
   "outputs": [],
   "source": [
    "reg_par_list = np.arange(-10,3,1)\n",
    "ein_list = []\n",
    "eout_list = []\n",
    "eval_list = []\n",
    "for i in reg_par_list:\n",
    "    reg_par = 10.0 ** i\n",
    "    nfeature = len(train_x[0])\n",
    "    wreg = np.linalg.inv(train_x_split.transpose().dot(train_x_split) + reg_par*np.identity(nfeature)).dot(train_x_split.transpose()).dot(train_y_split)\n",
    "    ein = cnt_err(wreg, train_x_split, train_y_split)\n",
    "    eout = cnt_err(wreg, test_x, test_y)\n",
    "    evali = cnt_err(wreg, x_val, y_val)\n",
    "    ein_list.append(ein)\n",
    "    eout_list.append(eout)\n",
    "    eval_list.append(evali)"
   ]
  },
  {
   "cell_type": "code",
   "execution_count": 9,
   "metadata": {},
   "outputs": [
    {
     "name": "stdout",
     "output_type": "stream",
     "text": [
      "[0.008333333333333333, 0.0, 0.0, 0.03333333333333333, 0.03333333333333333, 0.03333333333333333, 0.03333333333333333, 0.03333333333333333, 0.03333333333333333, 0.03333333333333333, 0.03333333333333333, 0.075, 0.3416666666666667]\n",
      "[0.125, 0.1, 0.05, 0.0375, 0.0375, 0.0375, 0.0375, 0.0375, 0.0375, 0.0375, 0.0375, 0.125, 0.4125]\n",
      "[0.04, 0.038, 0.025, 0.021, 0.021, 0.021, 0.021, 0.021, 0.021, 0.022, 0.028, 0.08, 0.414]\n"
     ]
    }
   ],
   "source": [
    "print(ein_list)\n",
    "print(eval_list)\n",
    "print(eout_list)"
   ]
  },
  {
   "cell_type": "code",
   "execution_count": 10,
   "metadata": {},
   "outputs": [
    {
     "data": {
      "image/png": "[encoded data removed]",
      "text/plain": [
       "<matplotlib.figure.Figure at 0x7f2f4680d160>"
      ]
     },
     "metadata": {},
     "output_type": "display_data"
    }
   ],
   "source": [
    "plt.figure(figsize=(10,8)) \n",
    "plt.plot(reg_par_list, eout_list, label='Eout')\n",
    "plt.plot(reg_par_list, eval_list, label='Eval')\n",
    "plt.legend(loc=2)\n",
    "plt.title(\"#8\")\n",
    "plt.xlabel('log_10_lambda') \n",
    "plt.ylabel('Error')\n",
    "plt.show()"
   ]
  },
  {
   "cell_type": "code",
   "execution_count": null,
   "metadata": {},
   "outputs": [],
   "source": []
  },
  {
   "cell_type": "code",
   "execution_count": null,
   "metadata": {},
   "outputs": [],
   "source": []
  }
 ],
 "metadata": {
  "kernelspec": {
   "display_name": "Python 3",
   "language": "python",
   "name": "python3"
  },
  "language_info": {
   "codemirror_mode": {
    "name": "ipython",
    "version": 3
   },
   "file_extension": ".py",
   "mimetype": "text/x-python",
   "name": "python",
   "nbconvert_exporter": "python",
   "pygments_lexer": "ipython3",
   "version": "3.5.2"
  }
 },
 "nbformat": 4,
 "nbformat_minor": 2
}
