{
 "cells": [
  {
   "cell_type": "code",
   "execution_count": 1,
   "metadata": {},
   "outputs": [],
   "source": [
    "import numpy as np\n",
    "from math import exp\n",
    "import matplotlib.pyplot as plt\n",
    "import random"
   ]
  },
  {
   "cell_type": "code",
   "execution_count": 2,
   "metadata": {},
   "outputs": [],
   "source": [
    "def read_data(fname='./hw4_train.dat'):\n",
    "    X, Y  = [], []\n",
    "    with open(fname, 'r') as f:\n",
    "        for line in f.readlines():\n",
    "            line = line.split()\n",
    "            # add coefficient for constant\n",
    "            X.append(tuple([1] + [float(v) for v in line[:-1]]))\n",
    "            Y.append(int(line[-1]))\n",
    "    return np.array(X), np.array(Y)"
   ]
  },
  {
   "cell_type": "code",
   "execution_count": 27,
   "metadata": {},
   "outputs": [],
   "source": [
    "def sigmoid(s):\n",
    "    return 1.0/(1.0+exp(-s))\n",
    "def cnt_err(w, X, Y):\n",
    "    err = 0.0\n",
    "    for i in range(len(X)):\n",
    "        pred = np.sign(sigmoid(X[i].dot(w))-1/2)\n",
    "        if pred != Y[i]:\n",
    "            err = err + 1\n",
    "    return err/float(len(X))"
   ]
  },
  {
   "cell_type": "code",
   "execution_count": 3,
   "metadata": {},
   "outputs": [],
   "source": [
    "train_x, train_y = read_data('./hw4_train.dat')\n",
    "test_x, test_y = read_data('./hw4_test.dat')"
   ]
  },
  {
   "cell_type": "code",
   "execution_count": null,
   "metadata": {},
   "outputs": [],
   "source": [
    "reg_par_list = np.arange(-10,3,1)\n",
    "ein_list = []\n",
    "eout_list = []\n",
    "for i in reg_par_list:\n",
    "    reg_par = 10.0 ** i\n",
    "    nfeature = len(train_x[0])\n",
    "    wreg = np.linalg.inv(train_x.transpose().dot(train_x) + reg_par*np.identity(nfeature)).dot(train_x.transpose()).dot(train_y)\n",
    "    ein = cnt_err(wreg, train_x, train_y)\n",
    "    eout = cnt_err(wregm test_x, test_y)\n",
    "    ein_list.append(ein)\n",
    "    eout_list.append(eout)"
   ]
  },
  {
   "cell_type": "code",
   "execution_count": null,
   "metadata": {},
   "outputs": [],
   "source": []
  },
  {
   "cell_type": "code",
   "execution_count": null,
   "metadata": {},
   "outputs": [],
   "source": []
  },
  {
   "cell_type": "code",
   "execution_count": 26,
   "metadata": {},
   "outputs": [
    {
     "data": {
      "text/plain": [
       "array([ -1.50329801,  68.68360739, -65.55516923])"
      ]
     },
     "execution_count": 26,
     "metadata": {},
     "output_type": "execute_result"
    }
   ],
   "source": [
    "i = -6\n",
    "reg_par = 10.0 ** i\n",
    "nfeature = len(train_x[0])\n",
    "train_x.transpose().dot(train_x)\n",
    "reg_par*np.identity(nfeature)\n",
    "np.linalg.inv(train_x.transpose().dot(train_x) + reg_par*np.identity(nfeature))\n",
    "np.linalg.inv(train_x.transpose().dot(train_x) + reg_par*np.identity(nfeature)).dot(train_x.transpose()).dot(train_y)\n",
    "\n"
   ]
  },
  {
   "cell_type": "code",
   "execution_count": 7,
   "metadata": {},
   "outputs": [
    {
     "data": {
      "text/plain": [
       "array([-10.,  -9.,  -8.,  -7.,  -6.,  -5.,  -4.,  -3.,  -2.,  -1.,   0.,\n",
       "         1.,   2.])"
      ]
     },
     "execution_count": 7,
     "metadata": {},
     "output_type": "execute_result"
    }
   ],
   "source": [
    "np.arange(-10.0,3.0,1.0)"
   ]
  }
 ],
 "metadata": {
  "kernelspec": {
   "display_name": "Python 3",
   "language": "python",
   "name": "python3"
  },
  "language_info": {
   "codemirror_mode": {
    "name": "ipython",
    "version": 3
   },
   "file_extension": ".py",
   "mimetype": "text/x-python",
   "name": "python",
   "nbconvert_exporter": "python",
   "pygments_lexer": "ipython3",
   "version": "3.5.2"
  }
 },
 "nbformat": 4,
 "nbformat_minor": 2
}
