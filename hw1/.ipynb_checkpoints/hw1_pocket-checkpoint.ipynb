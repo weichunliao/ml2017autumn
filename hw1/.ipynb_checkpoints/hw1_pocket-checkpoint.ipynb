{
 "cells": [
  {
   "cell_type": "code",
   "execution_count": 1,
   "metadata": {},
   "outputs": [],
   "source": [
    "import numpy as np\n",
    "import math\n",
    "import matplotlib.pyplot as plt\n",
    "from tqdm import tqdm"
   ]
  },
  {
   "cell_type": "code",
   "execution_count": 2,
   "metadata": {
    "collapsed": true
   },
   "outputs": [],
   "source": [
    "def load_file(filename = \"./hw1_8_train.dat\"):\n",
    "    data = []\n",
    "    for line in open(filename, 'r'):\n",
    "        item = line.rstrip()\n",
    "        str_x, str_y = item.split(\"\\t\")\n",
    "        x = str_x.split(\" \")\n",
    "        x = [float(i) for i in x]\n",
    "        x.append(1)\n",
    "        x.append(int(str_y))\n",
    "        data.append(x)\n",
    "    return (data)"
   ]
  },
  {
   "cell_type": "code",
   "execution_count": 3,
   "metadata": {
    "collapsed": true
   },
   "outputs": [],
   "source": [
    "def sign(tmp):\n",
    "    if (tmp > 0):\n",
    "        return (1.0)\n",
    "    else:\n",
    "        return (-1.0)"
   ]
  },
  {
   "cell_type": "code",
   "execution_count": 4,
   "metadata": {
    "collapsed": true
   },
   "outputs": [],
   "source": [
    "def testing_err(w_hat, data):\n",
    "    y = data[:,5]\n",
    "    y_tmp = np.dot(data[:,:5], np.transpose(w_hat))\n",
    "    y_hat = np.array(list(map(sign, y_tmp)))\n",
    "    err = sum(np.absolute(y - y_hat))/2\n",
    "    err /= len(data)\n",
    "    return (err)"
   ]
  },
  {
   "cell_type": "code",
   "execution_count": 39,
   "metadata": {
    "collapsed": true
   },
   "outputs": [],
   "source": [
    "def pocket(train_data, test_data, update_times=50, cycle_num=2000):\n",
    "    testing_err_stat = []\n",
    "    m = cycle_num\n",
    "    data_size = len(train_data)\n",
    "    lr=1\n",
    "    for seed in tqdm(range(m)):\n",
    "#         print(\"seed:\", seed)\n",
    "        np.random.seed(seed)\n",
    "        np.random.shuffle(train_data)\n",
    "        w = np.zeros(5)\n",
    "        best_w = np.zeros(5)\n",
    "        best_err = len(train_data)\n",
    "        \n",
    "        i = 0\n",
    "        y = train_data[:,5]\n",
    "        \n",
    "        for _ in range(update_times):\n",
    "            while(True):\n",
    "                idx = i % data_size\n",
    "                i += 1\n",
    "                y_tmp = np.dot(train_data[:,:5], np.transpose(w))\n",
    "                y_hat = np.array(list(map(sign, y_tmp)))\n",
    "                err = sum(np.absolute(y - y_hat))/2\n",
    "                if(err > 0):\n",
    "                    if (y[idx] != y_hat[idx]):\n",
    "                        w += train_data[idx, :5]*y[idx]*lr\n",
    "#                         print(\"w:\", w)\n",
    "                        tmp_err=testing_err(w, train_data)\n",
    "                        if(tmp_err < best_err):\n",
    "                            best_w = list(w)\n",
    "                            best_err = tmp_err\n",
    "#                             print(best_err)\n",
    "#                             print(\"test\", testing_err(best_w, test_data))\n",
    "#                             print(w)\n",
    "#                             print(\"www\", best_w)\n",
    "                        break\n",
    "        t_err = testing_err(best_w, test_data)\n",
    "#         print(\"terr\", t_err)\n",
    "#         print(\"best_w\", best_w)\n",
    "        testing_err_stat.append(t_err)\n",
    "#         print(testing_err_stat)\n",
    "    print(\"avg err:\", sum(testing_err_stat)/len(testing_err_stat))\n",
    "    return (testing_err_stat)"
   ]
  },
  {
   "cell_type": "code",
   "execution_count": 40,
   "metadata": {
    "collapsed": true
   },
   "outputs": [],
   "source": [
    "def main():\n",
    "    train_data = np.array(load_file('./hw1_18_train.dat'))\n",
    "    test_data = np.array(load_file('./hw1_18_test.dat'))\n",
    "\n",
    "    result1=pocket(train_data, test_data, 50, 2000)"
   ]
  },
  {
   "cell_type": "code",
   "execution_count": 41,
   "metadata": {},
   "outputs": [
    {
     "name": "stderr",
     "output_type": "stream",
     "text": [
      "\n",
      "  0%|          | 0/2000 [00:00<?, ?it/s]\u001b[A\n",
      "  0%|          | 3/2000 [00:00<01:25, 23.24it/s]\u001b[A\n",
      "  0%|          | 6/2000 [00:00<01:25, 23.37it/s]\u001b[A\n",
      "  0%|          | 9/2000 [00:00<01:28, 22.44it/s]\u001b[A\n",
      "  1%|          | 11/2000 [00:00<01:32, 21.50it/s]\u001b[A\n",
      "  1%|          | 13/2000 [00:00<01:33, 21.18it/s]\u001b[A\n",
      "  1%|          | 16/2000 [00:00<01:33, 21.32it/s]\u001b[A\n",
      "  1%|          | 18/2000 [00:00<01:34, 20.99it/s]\u001b[A\n",
      "  1%|          | 21/2000 [00:00<01:34, 21.02it/s]\u001b[A\n",
      "  1%|          | 23/2000 [00:01<01:34, 20.88it/s]\u001b[A\n",
      "  1%|▏         | 25/2000 [00:01<01:35, 20.76it/s]\u001b[A\n",
      "  1%|▏         | 28/2000 [00:01<01:34, 20.82it/s]\u001b[A\n",
      "  2%|▏         | 31/2000 [00:01<01:34, 20.81it/s]\u001b[A\n",
      "  2%|▏         | 34/2000 [00:01<01:34, 20.76it/s]\u001b[A\n",
      "  2%|▏         | 37/2000 [00:01<01:33, 20.93it/s]\u001b[A\n",
      "  2%|▏         | 40/2000 [00:01<01:33, 21.04it/s]\u001b[A\n",
      "  2%|▏         | 43/2000 [00:02<01:33, 21.04it/s]\u001b[A\n",
      "  2%|▏         | 46/2000 [00:02<01:32, 21.03it/s]\u001b[A\n",
      "  2%|▏         | 49/2000 [00:02<01:32, 21.10it/s]\u001b[A\n",
      "  3%|▎         | 52/2000 [00:02<01:32, 21.05it/s]\u001b[A\n",
      "  3%|▎         | 55/2000 [00:02<01:32, 21.05it/s]\u001b[A\n",
      "  3%|▎         | 58/2000 [00:02<01:32, 21.02it/s]\u001b[A\n",
      "  3%|▎         | 61/2000 [00:02<01:32, 20.96it/s]\u001b[A\n",
      "  3%|▎         | 64/2000 [00:03<01:32, 20.99it/s]\u001b[A\n",
      "  3%|▎         | 67/2000 [00:03<01:31, 21.09it/s]\u001b[A\n",
      "  4%|▎         | 70/2000 [00:03<01:31, 21.05it/s]\u001b[A\n",
      "  4%|▎         | 73/2000 [00:03<01:31, 21.07it/s]\u001b[A\n",
      "  4%|▍         | 76/2000 [00:03<01:31, 21.10it/s]\u001b[A\n",
      "  4%|▍         | 79/2000 [00:03<01:31, 21.08it/s]\u001b[A\n",
      "  4%|▍         | 82/2000 [00:03<01:30, 21.13it/s]\u001b[A\n",
      "  4%|▍         | 85/2000 [00:04<01:30, 21.14it/s]\u001b[A\n",
      "  4%|▍         | 88/2000 [00:04<01:30, 21.12it/s]\u001b[A\n",
      "  5%|▍         | 91/2000 [00:04<01:30, 21.13it/s]\u001b[A\n",
      "  5%|▍         | 94/2000 [00:04<01:30, 21.10it/s]\u001b[A\n",
      "  5%|▍         | 97/2000 [00:04<01:30, 21.04it/s]\u001b[A\n",
      "  5%|▌         | 100/2000 [00:04<01:30, 21.03it/s]\u001b[A\n",
      "  5%|▌         | 103/2000 [00:04<01:30, 21.03it/s]\u001b[A\n",
      "  5%|▌         | 106/2000 [00:05<01:30, 21.03it/s]\u001b[A\n",
      "  5%|▌         | 109/2000 [00:05<01:30, 21.01it/s]\u001b[A\n",
      "  6%|▌         | 112/2000 [00:05<01:29, 21.03it/s]\u001b[A\n",
      "  6%|▌         | 115/2000 [00:05<01:29, 21.04it/s]\u001b[A\n",
      "  6%|▌         | 118/2000 [00:05<01:29, 21.05it/s]\u001b[A\n",
      "  6%|▌         | 121/2000 [00:05<01:29, 21.01it/s]\u001b[A\n",
      "  6%|▌         | 124/2000 [00:05<01:29, 21.05it/s]\u001b[A\n",
      "  6%|▋         | 127/2000 [00:06<01:29, 21.03it/s]\u001b[A\n",
      "  6%|▋         | 130/2000 [00:06<01:28, 21.03it/s]\u001b[A\n",
      "  7%|▋         | 133/2000 [00:06<01:28, 21.01it/s]\u001b[A\n",
      "  7%|▋         | 136/2000 [00:06<01:28, 21.00it/s]\u001b[A\n",
      "  7%|▋         | 139/2000 [00:06<01:28, 21.00it/s]\u001b[A\n",
      "  7%|▋         | 142/2000 [00:06<01:28, 21.00it/s]\u001b[A\n",
      "  7%|▋         | 145/2000 [00:06<01:28, 21.06it/s]\u001b[A\n",
      "  7%|▋         | 148/2000 [00:07<01:28, 21.00it/s]\u001b[A\n",
      "  8%|▊         | 151/2000 [00:07<01:28, 21.01it/s]\u001b[A\n",
      "  8%|▊         | 154/2000 [00:07<01:28, 20.97it/s]\u001b[A\n",
      "  8%|▊         | 157/2000 [00:07<01:28, 20.90it/s]\u001b[A\n",
      "  8%|▊         | 159/2000 [00:07<01:28, 20.86it/s]\u001b[A\n",
      "Exception in thread Thread-11:\n",
      "Traceback (most recent call last):\n",
      "  File \"/usr/lib/python3.4/threading.py\", line 920, in _bootstrap_inner\n",
      "    self.run()\n",
      "  File \"/home/chun/py/venv/lib/python3.4/site-packages/tqdm/_tqdm.py\", line 144, in run\n",
      "    for instance in self.tqdm_cls._instances:\n",
      "  File \"/home/chun/py/venv/lib/python3.4/_weakrefset.py\", line 60, in __iter__\n",
      "    for itemref in self.data:\n",
      "RuntimeError: Set changed size during iteration\n",
      "\n",
      "100%|██████████| 2000/2000 [01:33<00:00, 21.43it/s]"
     ]
    },
    {
     "name": "stdout",
     "output_type": "stream",
     "text": [
      "avg err: 0.131876\n"
     ]
    },
    {
     "name": "stderr",
     "output_type": "stream",
     "text": [
      "\n"
     ]
    }
   ],
   "source": [
    "if __name__ == \"__main__\":\n",
    "    main()"
   ]
  }
 ],
 "metadata": {
  "kernelspec": {
   "display_name": "Python 3",
   "language": "python",
   "name": "python3"
  },
  "language_info": {
   "codemirror_mode": {
    "name": "ipython",
    "version": 3
   },
   "file_extension": ".py",
   "mimetype": "text/x-python",
   "name": "python",
   "nbconvert_exporter": "python",
   "pygments_lexer": "ipython3",
   "version": "3.4.3"
  }
 },
 "nbformat": 4,
 "nbformat_minor": 2
}
