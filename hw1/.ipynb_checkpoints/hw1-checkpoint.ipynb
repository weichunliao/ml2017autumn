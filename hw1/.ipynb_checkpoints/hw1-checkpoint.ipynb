{
 "cells": [
  {
   "cell_type": "code",
   "execution_count": 2,
   "metadata": {
    "collapsed": true
   },
   "outputs": [],
   "source": [
    "import numpy as np\n",
    "import math\n",
    "import matplotlib.pyplot as plt\n",
    "# from tqdm import tqdm"
   ]
  },
  {
   "cell_type": "code",
   "execution_count": 2,
   "metadata": {
    "collapsed": true
   },
   "outputs": [],
   "source": [
    "def load_file(filename = \"./hw1_8_train.dat\"):\n",
    "    data = []\n",
    "    for line in open(filename, 'r'):\n",
    "        item = line.rstrip()\n",
    "        str_x, str_y = item.split(\"\\t\")\n",
    "        x = str_x.split(\" \")\n",
    "        x = [float(i) for i in x]\n",
    "        x.append(1)\n",
    "        x.append(int(str_y))\n",
    "        data.append(x)\n",
    "#     print(data)\n",
    "    return (data)\n",
    "\n",
    "# data = np.array(load_file())"
   ]
  },
  {
   "cell_type": "code",
   "execution_count": 3,
   "metadata": {
    "collapsed": true
   },
   "outputs": [],
   "source": [
    "def sign(tmp):\n",
    "    if (tmp > 0):\n",
    "        return (1.0)\n",
    "    else:\n",
    "        return (-1.0)"
   ]
  },
  {
   "cell_type": "code",
   "execution_count": 4,
   "metadata": {
    "collapsed": true
   },
   "outputs": [],
   "source": [
    "def pla(data, cycle_num=2000, lr=1):\n",
    "    update_count_stat = []\n",
    "    m=cycle_num\n",
    "    data_size=len(data)\n",
    "    lr = 1\n",
    "    #2000 times\n",
    "    for seed in tqdm(range(m)):\n",
    "        np.random.seed(seed)\n",
    "        np.random.shuffle(data)\n",
    "        w = np.zeros(5)\n",
    "\n",
    "        update_count = 0\n",
    "        i = 0\n",
    "        y = data[:,5]\n",
    "\n",
    "        while(True):\n",
    "            idx = i % data_size\n",
    "            i += 1\n",
    "            y_tmp = np.dot(data[:,:5], np.transpose(w))\n",
    "            y_hat = np.array(list(map(sign, y_tmp)))\n",
    "            err = sum(np.absolute(y - y_hat))/2\n",
    "            if(err > 0):\n",
    "                if (y[idx] != y_hat[idx]):\n",
    "                    w += data[idx, :5]*y[idx]*lr\n",
    "                    update_count += 1\n",
    "            else:\n",
    "                update_count_stat.append(update_count)\n",
    "                break\n",
    "    print(\"avg update time:\", sum(update_count_stat)/len(update_count_stat))\n",
    "    bins = np.arange(0, 100, 5)\n",
    "    plt.hist(update_count_stat, bins=bins)\n",
    "    plt.show()\n",
    "    return (update_count_stat)"
   ]
  },
  {
   "cell_type": "code",
   "execution_count": 5,
   "metadata": {
    "collapsed": true
   },
   "outputs": [],
   "source": [
    "# ran_seed = 1\n",
    "# np.random.seed(ran_seed)\n",
    "def main():\n",
    "    # load data\n",
    "    data = np.array(load_file())\n",
    "    result1=pla(data)\n",
    "    "
   ]
  },
  {
   "cell_type": "code",
   "execution_count": 6,
   "metadata": {},
   "outputs": [
    {
     "name": "stderr",
     "output_type": "stream",
     "text": [
      "100%|██████████| 2000/2000 [03:34<00:00,  9.33it/s]\n"
     ]
    },
    {
     "name": "stdout",
     "output_type": "stream",
     "text": [
      "avg update time: 40.0815\n"
     ]
    },
    {
     "data": {
      "image/png": "[encoded data removed]",
      "text/plain": [
       "<matplotlib.figure.Figure at 0x7f02c8d84fd0>"
      ]
     },
     "metadata": {},
     "output_type": "display_data"
    }
   ],
   "source": [
    "if __name__ == \"__main__\":\n",
    "    main()"
   ]
  },
  {
   "cell_type": "code",
   "execution_count": 7,
   "metadata": {},
   "outputs": [
    {
     "name": "stderr",
     "output_type": "stream",
     "text": [
      "100%|██████████| 2000/2000 [03:44<00:00,  8.89it/s]\n"
     ]
    },
    {
     "name": "stdout",
     "output_type": "stream",
     "text": [
      "avg update time: 40.0815\n"
     ]
    },
    {
     "data": {
      "image/png": "[encoded data removed]",
      "text/plain": [
       "<matplotlib.figure.Figure at 0x7f02c8561a58>"
      ]
     },
     "metadata": {},
     "output_type": "display_data"
    }
   ],
   "source": [
    "def main():\n",
    "    # load data\n",
    "    data = np.array(load_file())\n",
    "    result1=pla(data, 2000, 0.5)\n",
    "if __name__ == \"__main__\":\n",
    "    main()"
   ]
  }
 ],
 "metadata": {
  "kernelspec": {
   "display_name": "Python 3",
   "language": "python",
   "name": "python3"
  },
  "language_info": {
   "codemirror_mode": {
    "name": "ipython",
    "version": 3
   },
   "file_extension": ".py",
   "mimetype": "text/x-python",
   "name": "python",
   "nbconvert_exporter": "python",
   "pygments_lexer": "ipython3",
   "version": "3.4.3"
  }
 },
 "nbformat": 4,
 "nbformat_minor": 2
}
